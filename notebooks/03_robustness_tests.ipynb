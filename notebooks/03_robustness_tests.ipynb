{
 "cells": [
  {
   "cell_type": "code",
   "execution_count": 1,
   "id": "058c8ff1",
   "metadata": {},
   "outputs": [
    {
     "name": "stdout",
     "output_type": "stream",
     "text": [
      "COVER EXISTS: True\n"
     ]
    }
   ],
   "source": [
    "import os\n",
    "import sys\n",
    "import numpy as np\n",
    "from PIL import Image, ImageFilter\n",
    "\n",
    "PROJECT_ROOT = os.path.abspath(os.path.join(os.getcwd(), \"..\"))  # dari notebooks ke project\n",
    "if PROJECT_ROOT not in sys.path:\n",
    "    sys.path.insert(0, PROJECT_ROOT)\n",
    "\n",
    "from src.crypto.keygen import generate_rsa_keys\n",
    "from src.crypto.encrypt import rsa_encrypt\n",
    "from src.stego.embed import embed_dwt\n",
    "from src.stego.extract import extract_dwt\n",
    "from src.utils.metrics import compute_psnr, compute_ssim\n",
    "\n",
    "cover = os.path.join(PROJECT_ROOT, 'data', 'cover', 'cover1.jpg')\n",
    "stego = os.path.join(PROJECT_ROOT, 'data', 'stego', 'robust.png')\n",
    "private_key_path = os.path.join(PROJECT_ROOT, 'keys', 'private.pem')\n",
    "public_key_path = os.path.join(PROJECT_ROOT, 'keys', 'public.pem')\n",
    "\n",
    "# Debug: pastikan file cover ada\n",
    "print(\"COVER EXISTS:\", os.path.exists(cover))  # Harus True\n",
    "\n",
    "# Generate RSA Keys, encrypt, embed\n",
    "priv, pub = generate_rsa_keys(2048, private_key_path, public_key_path) # Generate RSA Keys\n",
    "msg = b'Test robustness payload' # Encrypt pesan\n",
    "ct = rsa_encrypt(msg, pub)\n",
    "embed_dwt(cover, ct, stego) # Embed pesan terenkripsi ke dalam cover image\n",
    "orig = np.array(Image.open(cover).convert('L'), dtype=np.uint8) # Load original image untuk perbandingan (grayscale)\n",
    "stego_img = np.array(Image.open(stego).convert('L'), dtype=np.uint8) # Load stego image\n"
   ]
  },
  {
   "cell_type": "code",
   "execution_count": 2,
   "id": "6592d29d",
   "metadata": {},
   "outputs": [],
   "source": [
    "from PIL import Image\n",
    "import numpy as np\n",
    "import pywt\n",
    "import io  # <--- tambahkan ini\n",
    "\n",
    "def extract_dwt(stego_input, data_len: int, level: int = 1) -> bytes:\n",
    "    \"\"\"\n",
    "    Extract binary data from a stego-image using DWT.\n",
    "    `stego_input` can be a path (str) or a PIL.Image object.\n",
    "    \"\"\"\n",
    "    if isinstance(stego_input, str):\n",
    "        img = Image.open(stego_input).convert('L')\n",
    "    else:\n",
    "        img = stego_input.convert('L')  # PIL.Image.Image assumed\n",
    "\n",
    "    arr = np.array(img, dtype=float)\n",
    "\n",
    "    coeffs = pywt.wavedec2(arr, 'haar', level=level)\n",
    "    cA, (cH, cV, cD) = coeffs[0], coeffs[1]\n",
    "\n",
    "    flat = cD.flatten()\n",
    "    bits = (flat > 0).astype(np.uint8)[:data_len * 8]\n",
    "    byte_arr = np.packbits(bits)\n",
    "    return byte_arr.tobytes()\n",
    "\n",
    "\n",
    "tests = []\n",
    "qualities = [90, 70, 50]\n",
    "noises = [5, 10]\n",
    "\n",
    "# JPEG compression\n",
    "for q in qualities:\n",
    "    buf = io.BytesIO()\n",
    "    Image.open(stego).save(buf, format='JPEG', quality=q)\n",
    "    buf.seek(0)\n",
    "    img_jpeg = Image.open(buf)\n",
    "    arr_jpeg = np.array(img_jpeg.convert('L'), dtype=np.uint8)\n",
    "    ps = compute_psnr(orig, arr_jpeg)\n",
    "    ss = compute_ssim(orig, arr_jpeg)\n",
    "    extracted = extract_dwt(img_jpeg, len(ct))\n",
    "    ber = np.mean(np.unpackbits(np.frombuffer(extracted, dtype=np.uint8)) !=\n",
    "                  np.unpackbits(np.frombuffer(ct, dtype=np.uint8)))\n",
    "    tests.append({'type':'JPEG', 'param':q, 'psnr':ps, 'ssim':ss, 'bit_error_rate':ber})\n",
    "\n",
    "# Gaussian noise\n",
    "for sigma in noises:\n",
    "    img = Image.open(stego).convert('L')\n",
    "    noise = np.random.normal(0, sigma, img.size[::-1]).reshape(img.size[::-1])\n",
    "    arr_noisy = np.clip(np.array(img, float) + noise, 0, 255).astype(np.uint8)\n",
    "    ps = compute_psnr(orig, arr_noisy)\n",
    "    ss = compute_ssim(orig, arr_noisy)\n",
    "    extracted = extract_dwt(Image.fromarray(arr_noisy), len(ct))\n",
    "    ber = np.mean(np.unpackbits(np.frombuffer(extracted, dtype=np.uint8)) !=\n",
    "                  np.unpackbits(np.frombuffer(ct, dtype=np.uint8)))\n",
    "    tests.append({'type':'Noise', 'param':sigma, 'psnr':ps, 'ssim':ss, 'bit_error_rate':ber})\n"
   ]
  },
  {
   "cell_type": "code",
   "execution_count": 3,
   "id": "f3e8a61b",
   "metadata": {},
   "outputs": [
    {
     "data": {
      "text/html": [
       "<div>\n",
       "<style scoped>\n",
       "    .dataframe tbody tr th:only-of-type {\n",
       "        vertical-align: middle;\n",
       "    }\n",
       "\n",
       "    .dataframe tbody tr th {\n",
       "        vertical-align: top;\n",
       "    }\n",
       "\n",
       "    .dataframe thead th {\n",
       "        text-align: right;\n",
       "    }\n",
       "</style>\n",
       "<table border=\"1\" class=\"dataframe\">\n",
       "  <thead>\n",
       "    <tr style=\"text-align: right;\">\n",
       "      <th></th>\n",
       "      <th>type</th>\n",
       "      <th>param</th>\n",
       "      <th>psnr</th>\n",
       "      <th>ssim</th>\n",
       "      <th>bit_error_rate</th>\n",
       "    </tr>\n",
       "  </thead>\n",
       "  <tbody>\n",
       "    <tr>\n",
       "      <th>0</th>\n",
       "      <td>JPEG</td>\n",
       "      <td>90</td>\n",
       "      <td>57.132706</td>\n",
       "      <td>0.999282</td>\n",
       "      <td>0.509277</td>\n",
       "    </tr>\n",
       "    <tr>\n",
       "      <th>1</th>\n",
       "      <td>JPEG</td>\n",
       "      <td>70</td>\n",
       "      <td>48.977382</td>\n",
       "      <td>0.996698</td>\n",
       "      <td>0.510254</td>\n",
       "    </tr>\n",
       "    <tr>\n",
       "      <th>2</th>\n",
       "      <td>JPEG</td>\n",
       "      <td>50</td>\n",
       "      <td>46.536427</td>\n",
       "      <td>0.995270</td>\n",
       "      <td>0.510254</td>\n",
       "    </tr>\n",
       "    <tr>\n",
       "      <th>3</th>\n",
       "      <td>Noise</td>\n",
       "      <td>5</td>\n",
       "      <td>35.999218</td>\n",
       "      <td>0.852630</td>\n",
       "      <td>0.501465</td>\n",
       "    </tr>\n",
       "    <tr>\n",
       "      <th>4</th>\n",
       "      <td>Noise</td>\n",
       "      <td>10</td>\n",
       "      <td>30.294782</td>\n",
       "      <td>0.621614</td>\n",
       "      <td>0.479980</td>\n",
       "    </tr>\n",
       "  </tbody>\n",
       "</table>\n",
       "</div>"
      ],
      "text/plain": [
       "    type  param       psnr      ssim  bit_error_rate\n",
       "0   JPEG     90  57.132706  0.999282        0.509277\n",
       "1   JPEG     70  48.977382  0.996698        0.510254\n",
       "2   JPEG     50  46.536427  0.995270        0.510254\n",
       "3  Noise      5  35.999218  0.852630        0.501465\n",
       "4  Noise     10  30.294782  0.621614        0.479980"
      ]
     },
     "execution_count": 3,
     "metadata": {},
     "output_type": "execute_result"
    }
   ],
   "source": [
    "import pandas as pd\n",
    "\n",
    "robust_df = pd.DataFrame(tests)\n",
    "robust_df.to_csv('benchmarks/robustness.csv', index=False)\n",
    "robust_df"
   ]
  },
  {
   "cell_type": "code",
   "execution_count": 4,
   "id": "6bc4cbd6",
   "metadata": {},
   "outputs": [
    {
     "data": {
      "image/png": "[encoded data removed]",
      "text/plain": [
       "<Figure size 640x480 with 1 Axes>"
      ]
     },
     "metadata": {},
     "output_type": "display_data"
    }
   ],
   "source": [
    "# Visualisasi PSNR under distortions\n",
    "import matplotlib.pyplot as plt\n",
    "\n",
    "for t in ['JPEG','Noise']:\n",
    "    sub = robust_df[robust_df['type']==t]\n",
    "    plt.plot(sub['param'], sub['psnr'], marker='o', label=f'{t} PSNR')\n",
    "plt.title('PSNR Under Distortions')\n",
    "plt.xlabel('Parameter (Quality / σ)')\n",
    "plt.ylabel('PSNR (dB)')\n",
    "plt.legend()\n",
    "plt.grid(True)\n",
    "plt.show()"
   ]
  }
 ],
 "metadata": {
  "kernelspec": {
   "display_name": ".project12",
   "language": "python",
   "name": "python3"
  },
  "language_info": {
   "codemirror_mode": {
    "name": "ipython",
    "version": 3
   },
   "file_extension": ".py",
   "mimetype": "text/x-python",
   "name": "python",
   "nbconvert_exporter": "python",
   "pygments_lexer": "ipython3",
   "version": "3.12.10"
  }
 },
 "nbformat": 4,
 "nbformat_minor": 5
}
