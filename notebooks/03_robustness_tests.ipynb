{
 "cells": [
  {
   "cell_type": "markdown",
   "id": "150bb9cc",
   "metadata": {},
   "source": [
    "Imports"
   ]
  },
  {
   "cell_type": "code",
   "execution_count": 1,
   "id": "058c8ff1",
   "metadata": {},
   "outputs": [
    {
     "name": "stdout",
     "output_type": "stream",
     "text": [
      "COVER EXISTS: True\n"
     ]
    }
   ],
   "source": [
    "import os\n",
    "import sys\n",
    "import numpy as np\n",
    "from PIL import Image, ImageFilter\n",
    "\n",
    "# === Setup path ke root project ===\n",
    "PROJECT_ROOT = os.path.abspath(os.path.join(os.getcwd(), \"..\"))  # dari notebooks ke project\n",
    "if PROJECT_ROOT not in sys.path:\n",
    "    sys.path.insert(0, PROJECT_ROOT)\n",
    "\n",
    "# === Import modul internal setelah path di-setup ===\n",
    "from src.crypto.keygen import generate_rsa_keys\n",
    "from src.crypto.encrypt import rsa_encrypt\n",
    "from src.stego.embed import embed_dwt\n",
    "from src.stego.extract import extract_dwt\n",
    "from src.utils.metrics import compute_psnr, compute_ssim\n",
    "\n",
    "# === Path File ===\n",
    "cover = os.path.join(PROJECT_ROOT, 'data', 'cover', 'cover1.jpg')\n",
    "stego = os.path.join(PROJECT_ROOT, 'data', 'stego', 'robust.png')\n",
    "private_key_path = os.path.join(PROJECT_ROOT, 'keys', 'private.pem')\n",
    "public_key_path = os.path.join(PROJECT_ROOT, 'keys', 'public.pem')\n",
    "\n",
    "# === Debug: pastikan file cover ada ===\n",
    "print(\"COVER EXISTS:\", os.path.exists(cover))  # Harus True\n",
    "\n",
    "# === Generate RSA Keys ===\n",
    "priv, pub = generate_rsa_keys(2048, private_key_path, public_key_path)\n",
    "\n",
    "# === Encrypt Pesan ===\n",
    "msg = b'Test robustness payload'\n",
    "ct = rsa_encrypt(msg, pub)\n",
    "\n",
    "# === Embed pesan terenkripsi ke dalam cover image ===\n",
    "embed_dwt(cover, ct, stego)\n",
    "\n",
    "# === Load original image untuk perbandingan (grayscale) ===\n",
    "orig = np.array(Image.open(cover).convert('L'), dtype=np.uint8)\n"
   ]
  },
  {
   "cell_type": "markdown",
   "id": "ba059322",
   "metadata": {},
   "source": [
    "Definisikan gangguan dan eksperimen"
   ]
  },
  {
   "cell_type": "code",
   "execution_count": 2,
   "id": "6592d29d",
   "metadata": {},
   "outputs": [],
   "source": [
    "from PIL import Image\n",
    "import numpy as np\n",
    "import pywt\n",
    "import io  # <--- tambahkan ini\n",
    "\n",
    "def extract_dwt(stego_input, data_len: int, level: int = 1) -> bytes:\n",
    "    \"\"\"\n",
    "    Extract binary data from a stego-image using DWT.\n",
    "    `stego_input` can be a path (str) or a PIL.Image object.\n",
    "    \"\"\"\n",
    "    if isinstance(stego_input, str):\n",
    "        img = Image.open(stego_input).convert('L')\n",
    "    else:\n",
    "        img = stego_input.convert('L')  # PIL.Image.Image assumed\n",
    "\n",
    "    arr = np.array(img, dtype=float)\n",
    "\n",
    "    coeffs = pywt.wavedec2(arr, 'haar', level=level)\n",
    "    cA, (cH, cV, cD) = coeffs[0], coeffs[1]\n",
    "\n",
    "    flat = cD.flatten()\n",
    "    bits = (flat > 0).astype(np.uint8)[:data_len * 8]\n",
    "    byte_arr = np.packbits(bits)\n",
    "    return byte_arr.tobytes()\n",
    "\n",
    "\n",
    "tests = []\n",
    "qualities = [90, 70, 50]\n",
    "noises = [5, 10]\n",
    "\n",
    "# JPEG compression\n",
    "for q in qualities:\n",
    "    buf = io.BytesIO()\n",
    "    Image.open(stego).save(buf, format='JPEG', quality=q)\n",
    "    buf.seek(0)\n",
    "    img_jpeg = Image.open(buf)\n",
    "    arr_jpeg = np.array(img_jpeg.convert('L'), dtype=np.uint8)\n",
    "    ps = compute_psnr(orig, arr_jpeg)\n",
    "    ss = compute_ssim(orig, arr_jpeg)\n",
    "    extracted = extract_dwt(img_jpeg, len(ct))\n",
    "    ber = np.mean(np.unpackbits(np.frombuffer(extracted, dtype=np.uint8)) !=\n",
    "                  np.unpackbits(np.frombuffer(ct, dtype=np.uint8)))\n",
    "    tests.append({'type':'JPEG', 'param':q, 'psnr':ps, 'ssim':ss, 'bit_error_rate':ber})\n",
    "\n",
    "# Gaussian noise\n",
    "for sigma in noises:\n",
    "    img = Image.open(stego).convert('L')\n",
    "    noise = np.random.normal(0, sigma, img.size[::-1]).reshape(img.size[::-1])\n",
    "    arr_noisy = np.clip(np.array(img, float) + noise, 0, 255).astype(np.uint8)\n",
    "    ps = compute_psnr(orig, arr_noisy)\n",
    "    ss = compute_ssim(orig, arr_noisy)\n",
    "    extracted = extract_dwt(Image.fromarray(arr_noisy), len(ct))\n",
    "    ber = np.mean(np.unpackbits(np.frombuffer(extracted, dtype=np.uint8)) !=\n",
    "                  np.unpackbits(np.frombuffer(ct, dtype=np.uint8)))\n",
    "    tests.append({'type':'Noise', 'param':sigma, 'psnr':ps, 'ssim':ss, 'bit_error_rate':ber})\n"
   ]
  },
  {
   "cell_type": "markdown",
   "id": "3e543bf7",
   "metadata": {},
   "source": [
    "Simpan & tampilkan"
   ]
  },
  {
   "cell_type": "code",
   "execution_count": 3,
   "id": "f3e8a61b",
   "metadata": {},
   "outputs": [
    {
     "data": {
      "text/html": [
       "<div>\n",
       "<style scoped>\n",
       "    .dataframe tbody tr th:only-of-type {\n",
       "        vertical-align: middle;\n",
       "    }\n",
       "\n",
       "    .dataframe tbody tr th {\n",
       "        vertical-align: top;\n",
       "    }\n",
       "\n",
       "    .dataframe thead th {\n",
       "        text-align: right;\n",
       "    }\n",
       "</style>\n",
       "<table border=\"1\" class=\"dataframe\">\n",
       "  <thead>\n",
       "    <tr style=\"text-align: right;\">\n",
       "      <th></th>\n",
       "      <th>type</th>\n",
       "      <th>param</th>\n",
       "      <th>psnr</th>\n",
       "      <th>ssim</th>\n",
       "      <th>bit_error_rate</th>\n",
       "    </tr>\n",
       "  </thead>\n",
       "  <tbody>\n",
       "    <tr>\n",
       "      <th>0</th>\n",
       "      <td>JPEG</td>\n",
       "      <td>90</td>\n",
       "      <td>57.117566</td>\n",
       "      <td>0.999278</td>\n",
       "      <td>0.504395</td>\n",
       "    </tr>\n",
       "    <tr>\n",
       "      <th>1</th>\n",
       "      <td>JPEG</td>\n",
       "      <td>70</td>\n",
       "      <td>48.979857</td>\n",
       "      <td>0.996698</td>\n",
       "      <td>0.513184</td>\n",
       "    </tr>\n",
       "    <tr>\n",
       "      <th>2</th>\n",
       "      <td>JPEG</td>\n",
       "      <td>50</td>\n",
       "      <td>46.537367</td>\n",
       "      <td>0.995269</td>\n",
       "      <td>0.513184</td>\n",
       "    </tr>\n",
       "    <tr>\n",
       "      <th>3</th>\n",
       "      <td>Noise</td>\n",
       "      <td>5</td>\n",
       "      <td>36.008829</td>\n",
       "      <td>0.853166</td>\n",
       "      <td>0.512207</td>\n",
       "    </tr>\n",
       "    <tr>\n",
       "      <th>4</th>\n",
       "      <td>Noise</td>\n",
       "      <td>10</td>\n",
       "      <td>30.290692</td>\n",
       "      <td>0.621262</td>\n",
       "      <td>0.498535</td>\n",
       "    </tr>\n",
       "  </tbody>\n",
       "</table>\n",
       "</div>"
      ],
      "text/plain": [
       "    type  param       psnr      ssim  bit_error_rate\n",
       "0   JPEG     90  57.117566  0.999278        0.504395\n",
       "1   JPEG     70  48.979857  0.996698        0.513184\n",
       "2   JPEG     50  46.537367  0.995269        0.513184\n",
       "3  Noise      5  36.008829  0.853166        0.512207\n",
       "4  Noise     10  30.290692  0.621262        0.498535"
      ]
     },
     "execution_count": 3,
     "metadata": {},
     "output_type": "execute_result"
    }
   ],
   "source": [
    "import pandas as pd\n",
    "\n",
    "robust_df = pd.DataFrame(tests)\n",
    "robust_df.to_csv('benchmarks/robustness.csv', index=False)\n",
    "robust_df\n"
   ]
  },
  {
   "cell_type": "markdown",
   "id": "2414aa6a",
   "metadata": {},
   "source": [
    "Plot overview"
   ]
  },
  {
   "cell_type": "code",
   "execution_count": 4,
   "id": "0c3e3ff9",
   "metadata": {},
   "outputs": [
    {
     "data": {
      "image/png": "[encoded data removed]",
      "text/plain": [
       "<Figure size 640x480 with 1 Axes>"
      ]
     },
     "metadata": {},
     "output_type": "display_data"
    }
   ],
   "source": [
    "import matplotlib.pyplot as plt\n",
    "\n",
    "# PSNR per test\n",
    "for t in ['JPEG','Noise']:\n",
    "    sub = robust_df[robust_df['type']==t]\n",
    "    plt.plot(sub['param'], sub['psnr'], marker='o', label=f'{t} PSNR')\n",
    "plt.title('PSNR Under Distortions')\n",
    "plt.xlabel('Parameter (Quality / σ)')\n",
    "plt.ylabel('PSNR (dB)')\n",
    "plt.legend()\n",
    "plt.grid(True)\n",
    "plt.show()"
   ]
  }
 ],
 "metadata": {
  "kernelspec": {
   "display_name": ".project12",
   "language": "python",
   "name": "python3"
  },
  "language_info": {
   "codemirror_mode": {
    "name": "ipython",
    "version": 3
   },
   "file_extension": ".py",
   "mimetype": "text/x-python",
   "name": "python",
   "nbconvert_exporter": "python",
   "pygments_lexer": "ipython3",
   "version": "3.12.10"
  }
 },
 "nbformat": 4,
 "nbformat_minor": 5
}
