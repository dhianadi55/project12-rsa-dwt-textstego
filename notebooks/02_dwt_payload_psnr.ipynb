{
 "cells": [
  {
   "cell_type": "markdown",
   "id": "795a4332",
   "metadata": {},
   "source": [
    "Imports dan setup"
   ]
  },
  {
   "cell_type": "code",
   "execution_count": 1,
   "id": "4559d648",
   "metadata": {},
   "outputs": [],
   "source": [
    "import sys, os\n",
    "import pandas as pd\n",
    "import numpy as np\n",
    "from PIL import Image\n",
    "\n",
    "# Pastikan kita akses src dari root\n",
    "PROJECT_ROOT = os.path.abspath(os.path.join(os.getcwd(), \"..\"))\n",
    "if PROJECT_ROOT not in sys.path:\n",
    "    sys.path.insert(0, PROJECT_ROOT)\n",
    "\n",
    "# Import fungsi dari src\n",
    "from src.crypto.keygen import generate_rsa_keys\n",
    "from src.crypto.encrypt import rsa_encrypt\n",
    "from src.stego.embed import embed_dwt\n",
    "from src.stego.extract import extract_dwt\n",
    "from src.utils.metrics import compute_psnr\n",
    "\n",
    "# Setup path absolut untuk citra cover\n",
    "COVER_PATH = os.path.join(PROJECT_ROOT, 'data', 'cover', 'cover1.jpg')\n",
    "orig = np.array(Image.open(COVER_PATH).convert('L'), dtype=np.uint8)\n",
    "\n",
    "# Generate RSA key pair\n",
    "KEYS_DIR = os.path.join(PROJECT_ROOT, \"keys\")\n",
    "PRIVATE_PATH = os.path.join(KEYS_DIR, \"private.pem\")\n",
    "PUBLIC_PATH  = os.path.join(KEYS_DIR, \"public.pem\")\n",
    "priv, pub = generate_rsa_keys(2048, PRIVATE_PATH, PUBLIC_PATH)\n"
   ]
  },
  {
   "cell_type": "markdown",
   "id": "1120ba69",
   "metadata": {},
   "source": [
    "Uji payload vs PSNR"
   ]
  },
  {
   "cell_type": "code",
   "execution_count": 2,
   "id": "eed88671",
   "metadata": {},
   "outputs": [
    {
     "name": "stdout",
     "output_type": "stream",
     "text": [
      "⚠️ Gagal payload 400 bytes: Plaintext is too long.\n",
      "⚠️ Gagal payload 600 bytes: Plaintext is too long.\n",
      "⚠️ Gagal payload 800 bytes: Plaintext is too long.\n",
      "⚠️ Gagal payload 1000 bytes: Plaintext is too long.\n",
      "⚠️ Gagal payload 1200 bytes: Plaintext is too long.\n",
      "⚠️ Gagal payload 1400 bytes: Plaintext is too long.\n",
      "⚠️ Gagal payload 1600 bytes: Plaintext is too long.\n",
      "⚠️ Gagal payload 1800 bytes: Plaintext is too long.\n",
      "⚠️ Gagal payload 2000 bytes: Plaintext is too long.\n"
     ]
    }
   ],
   "source": [
    "# Payload testing\n",
    "max_bytes = 2000\n",
    "step = 200\n",
    "records = []\n",
    "\n",
    "STEGO_DIR = os.path.join(PROJECT_ROOT, 'data', 'stego')\n",
    "os.makedirs(STEGO_DIR, exist_ok=True)\n",
    "\n",
    "for payload in range(step, max_bytes + step, step):\n",
    "    try:\n",
    "        msg = b'A' * payload\n",
    "        ct = rsa_encrypt(msg, pub)\n",
    "        stego_path = os.path.join(STEGO_DIR, f'tmp_{payload}.png')\n",
    "        embed_dwt(COVER_PATH, ct, stego_path)\n",
    "        stego_img = np.array(Image.open(stego_path).convert('L'), dtype=np.uint8)\n",
    "        ps = compute_psnr(orig, stego_img)\n",
    "        records.append({'payload_bytes': len(ct), 'psnr_db': ps})\n",
    "    except Exception as e:\n",
    "        print(f\"⚠️ Gagal payload {payload} bytes: {e}\")\n"
   ]
  },
  {
   "cell_type": "markdown",
   "id": "47106a60",
   "metadata": {},
   "source": [
    "Simpan & tampilkan"
   ]
  },
  {
   "cell_type": "code",
   "execution_count": 3,
   "id": "d0c03d23",
   "metadata": {},
   "outputs": [
    {
     "data": {
      "text/html": [
       "<div>\n",
       "<style scoped>\n",
       "    .dataframe tbody tr th:only-of-type {\n",
       "        vertical-align: middle;\n",
       "    }\n",
       "\n",
       "    .dataframe tbody tr th {\n",
       "        vertical-align: top;\n",
       "    }\n",
       "\n",
       "    .dataframe thead th {\n",
       "        text-align: right;\n",
       "    }\n",
       "</style>\n",
       "<table border=\"1\" class=\"dataframe\">\n",
       "  <thead>\n",
       "    <tr style=\"text-align: right;\">\n",
       "      <th></th>\n",
       "      <th>payload_bytes</th>\n",
       "      <th>psnr_db</th>\n",
       "    </tr>\n",
       "  </thead>\n",
       "  <tbody>\n",
       "    <tr>\n",
       "      <th>0</th>\n",
       "      <td>256</td>\n",
       "      <td>61.41574</td>\n",
       "    </tr>\n",
       "  </tbody>\n",
       "</table>\n",
       "</div>"
      ],
      "text/plain": [
       "   payload_bytes   psnr_db\n",
       "0            256  61.41574"
      ]
     },
     "execution_count": 3,
     "metadata": {},
     "output_type": "execute_result"
    }
   ],
   "source": [
    "df_payload = pd.DataFrame(records)\n",
    "\n",
    "BENCH_DIR = os.path.join(PROJECT_ROOT, 'benchmarks')\n",
    "os.makedirs(BENCH_DIR, exist_ok=True)\n",
    "df_payload.to_csv(os.path.join(BENCH_DIR, 'payload_psnr.csv'), index=False)\n",
    "\n",
    "df_payload\n"
   ]
  },
  {
   "cell_type": "markdown",
   "id": "0a690e20",
   "metadata": {},
   "source": [
    "Plot"
   ]
  },
  {
   "cell_type": "code",
   "execution_count": 4,
   "id": "57dfcada",
   "metadata": {},
   "outputs": [
    {
     "data": {
      "image/png": "[encoded data removed]",
      "text/plain": [
       "<Figure size 640x480 with 1 Axes>"
      ]
     },
     "metadata": {},
     "output_type": "display_data"
    }
   ],
   "source": [
    "import matplotlib.pyplot as plt\n",
    "\n",
    "plt.plot(df_payload['payload_bytes'], df_payload['psnr_db'], marker='x')\n",
    "plt.title('Payload Capacity vs PSNR')\n",
    "plt.xlabel('Payload Size (bytes)')\n",
    "plt.ylabel('PSNR (dB)')\n",
    "plt.axhline(40, color='red', linestyle='--', label='PSNR = 40 dB')\n",
    "plt.legend()\n",
    "plt.grid(True)\n",
    "plt.show()\n"
   ]
  }
 ],
 "metadata": {
  "kernelspec": {
   "display_name": ".project12",
   "language": "python",
   "name": "python3"
  },
  "language_info": {
   "codemirror_mode": {
    "name": "ipython",
    "version": 3
   },
   "file_extension": ".py",
   "mimetype": "text/x-python",
   "name": "python",
   "nbconvert_exporter": "python",
   "pygments_lexer": "ipython3",
   "version": "3.12.10"
  }
 },
 "nbformat": 4,
 "nbformat_minor": 5
}
