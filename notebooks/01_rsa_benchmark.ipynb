{
 "cells": [
  {
   "cell_type": "code",
   "execution_count": 1,
   "id": "851cb176",
   "metadata": {},
   "outputs": [
    {
     "name": "stdout",
     "output_type": "stream",
     "text": [
      "Keys generated: d:\\VSCode\\cryptography\\project\\keys\\private.pem d:\\VSCode\\cryptography\\project\\keys\\public.pem\n"
     ]
    }
   ],
   "source": [
    "# Imports dan setup path\n",
    "import os, sys\n",
    "import pandas as pd\n",
    "\n",
    "PROJECT_ROOT = os.path.abspath(os.path.join(os.getcwd(), \"..\"))\n",
    "if PROJECT_ROOT not in sys.path:\n",
    "    sys.path.insert(0, PROJECT_ROOT)\n",
    "\n",
    "from src.crypto.keygen import generate_rsa_keys\n",
    "from src.crypto.encrypt import rsa_encrypt\n",
    "from src.crypto.decrypt import rsa_decrypt\n",
    "from src.utils.benchmarks import benchmark_rsa\n",
    "\n",
    "KEYS_DIR = os.path.join(PROJECT_ROOT, \"keys\")\n",
    "PRIVATE_PATH = os.path.join(KEYS_DIR, \"private.pem\")\n",
    "PUBLIC_PATH  = os.path.join(KEYS_DIR, \"public.pem\")\n",
    "os.makedirs(KEYS_DIR, exist_ok=True)\n",
    "\n",
    "# Generate RSA key pair\n",
    "priv_path, pub_path = generate_rsa_keys(2048, PRIVATE_PATH, PUBLIC_PATH)\n",
    "print(\"Keys generated:\", priv_path, pub_path)"
   ]
  },
  {
   "cell_type": "code",
   "execution_count": 2,
   "id": "498b3992",
   "metadata": {},
   "outputs": [
    {
     "data": {
      "text/html": [
       "<div>\n",
       "<style scoped>\n",
       "    .dataframe tbody tr th:only-of-type {\n",
       "        vertical-align: middle;\n",
       "    }\n",
       "\n",
       "    .dataframe tbody tr th {\n",
       "        vertical-align: top;\n",
       "    }\n",
       "\n",
       "    .dataframe thead th {\n",
       "        text-align: right;\n",
       "    }\n",
       "</style>\n",
       "<table border=\"1\" class=\"dataframe\">\n",
       "  <thead>\n",
       "    <tr style=\"text-align: right;\">\n",
       "      <th></th>\n",
       "      <th>message_size_bytes</th>\n",
       "      <th>encrypt_time_ms</th>\n",
       "      <th>decrypt_time_ms</th>\n",
       "    </tr>\n",
       "  </thead>\n",
       "  <tbody>\n",
       "    <tr>\n",
       "      <th>0</th>\n",
       "      <td>50</td>\n",
       "      <td>6.57866</td>\n",
       "      <td>93.64098</td>\n",
       "    </tr>\n",
       "    <tr>\n",
       "      <th>1</th>\n",
       "      <td>100</td>\n",
       "      <td>2.32388</td>\n",
       "      <td>91.36486</td>\n",
       "    </tr>\n",
       "    <tr>\n",
       "      <th>2</th>\n",
       "      <td>150</td>\n",
       "      <td>2.86674</td>\n",
       "      <td>98.17650</td>\n",
       "    </tr>\n",
       "    <tr>\n",
       "      <th>3</th>\n",
       "      <td>190</td>\n",
       "      <td>2.05998</td>\n",
       "      <td>88.07962</td>\n",
       "    </tr>\n",
       "  </tbody>\n",
       "</table>\n",
       "</div>"
      ],
      "text/plain": [
       "   message_size_bytes  encrypt_time_ms  decrypt_time_ms\n",
       "0                  50          6.57866         93.64098\n",
       "1                 100          2.32388         91.36486\n",
       "2                 150          2.86674         98.17650\n",
       "3                 190          2.05998         88.07962"
      ]
     },
     "execution_count": 2,
     "metadata": {},
     "output_type": "execute_result"
    }
   ],
   "source": [
    "# Benchmark RSA untuk berbagai ukuran pesan\n",
    "message_sizes = [50, 100, 150, 190]\n",
    "results = []\n",
    "\n",
    "for size in message_sizes:\n",
    "    msg = b'A' * size\n",
    "    t_enc = benchmark_rsa(rsa_encrypt, msg, pub_path)\n",
    "    ct = rsa_encrypt(msg, pub_path)\n",
    "    t_dec = benchmark_rsa(rsa_decrypt, ct, priv_path)\n",
    "    results.append({\n",
    "        'message_size_bytes': size,\n",
    "        'encrypt_time_ms': t_enc,\n",
    "        'decrypt_time_ms': t_dec\n",
    "    })\n",
    "\n",
    "rsa_df = pd.DataFrame(results)\n",
    "BENCH_DIR = os.path.join(PROJECT_ROOT, 'benchmarks')\n",
    "os.makedirs(BENCH_DIR, exist_ok=True)\n",
    "csv_path = os.path.join(BENCH_DIR, 'rsa_time.csv')\n",
    "rsa_df.to_csv(csv_path, index=False)\n",
    "rsa_df"
   ]
  },
  {
   "cell_type": "code",
   "execution_count": 3,
   "id": "951699dd",
   "metadata": {},
   "outputs": [
    {
     "data": {
      "image/png": "[encoded data removed]",
      "text/plain": [
       "<Figure size 640x480 with 1 Axes>"
      ]
     },
     "metadata": {},
     "output_type": "display_data"
    }
   ],
   "source": [
    "# Visualisasi hasil benchmark\n",
    "import matplotlib.pyplot as plt\n",
    "import os\n",
    "\n",
    "RESULTS_PLOTS_DIR = os.path.join(PROJECT_ROOT, 'results', 'plots')\n",
    "os.makedirs(RESULTS_PLOTS_DIR, exist_ok=True)\n",
    "\n",
    "plt.plot(rsa_df['message_size_bytes'], rsa_df['encrypt_time_ms'], marker='o', label='Encrypt')\n",
    "plt.plot(rsa_df['message_size_bytes'], rsa_df['decrypt_time_ms'], marker='o', label='Decrypt')\n",
    "plt.title('RSA Time vs Message Size')\n",
    "plt.xlabel('Message Size (bytes)')\n",
    "plt.ylabel('Time (ms)')\n",
    "plt.legend()\n",
    "plt.grid(True)\n",
    "plt.savefig(os.path.join(RESULTS_PLOTS_DIR, 'rsa_time.png'))\n",
    "plt.show()"
   ]
  }
 ],
 "metadata": {
  "kernelspec": {
   "display_name": ".project12",
   "language": "python",
   "name": "python3"
  },
  "language_info": {
   "codemirror_mode": {
    "name": "ipython",
    "version": 3
   },
   "file_extension": ".py",
   "mimetype": "text/x-python",
   "name": "python",
   "nbconvert_exporter": "python",
   "pygments_lexer": "ipython3",
   "version": "3.12.10"
  }
 },
 "nbformat": 4,
 "nbformat_minor": 5
}
